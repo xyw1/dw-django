{
 "cells": [
  {
   "cell_type": "markdown",
   "id": "42800c74-d50b-49a7-b747-f5dc7a0f7c6f",
   "metadata": {},
   "source": [
    "# MVC\n",
    "\n",
    "- views.py\n",
    "\n",
    "```\n",
    "from django.shortcuts import render\n",
    " \n",
    "def runoob(request):\n",
    "    context          = {}\n",
    "    context['hello'] = 'Hello World!'\n",
    "    return render(request, 'runoob.html', context)\n",
    "```\n",
    "\n",
    "- urls.py\n",
    "\n",
    "```\n",
    "from django.urls import path\n",
    " \n",
    "from . import views\n",
    " \n",
    "urlpatterns = [\n",
    "    path('runoob/', views.runoob),\n",
    "]\n",
    "```\n",
    "\n",
    "运行项目：\n",
    "`python3 manage.py runserver 0.0.0.0:8000`\n",
    "\n",
    "再次访问 http://127.0.0.1:8000/runoob，\n",
    "可以看到页面：\n",
    "\n",
    "![avatar](Helloword2.png) "
   ]
  },
  {
   "cell_type": "code",
   "execution_count": null,
   "id": "8a7f52bb-d927-40dd-a8b6-22fe7219c4e6",
   "metadata": {},
   "outputs": [],
   "source": []
  },
  {
   "cell_type": "code",
   "execution_count": null,
   "id": "fa02bf5f-d5a6-4c6b-a2f1-854269a2e9f7",
   "metadata": {},
   "outputs": [],
   "source": []
  }
 ],
 "metadata": {
  "kernelspec": {
   "display_name": "Python 3",
   "language": "python",
   "name": "python3"
  },
  "language_info": {
   "codemirror_mode": {
    "name": "ipython",
    "version": 3
   },
   "file_extension": ".py",
   "mimetype": "text/x-python",
   "name": "python",
   "nbconvert_exporter": "python",
   "pygments_lexer": "ipython3",
   "version": "3.8.10"
  }
 },
 "nbformat": 4,
 "nbformat_minor": 5
}
