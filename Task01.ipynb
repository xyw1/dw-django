{
 "cells": [
  {
   "cell_type": "markdown",
   "id": "7aa10e71-125d-4d12-ace7-5b9f7bd4e123",
   "metadata": {},
   "source": [
    "# 环境搭建\n",
    "平台：mac m1\n",
    "\n",
    "安装django:\n",
    "\n",
    "`pip install django`\n",
    "\n",
    "# 创建新项目\n",
    "`django-admin startproject Helloword`\n",
    "\n",
    "查看文件夹结构：\n",
    "\n",
    "```\n",
    "$ cd HelloWorld/\n",
    "$ tree\n",
    ".\n",
    "|-- HelloWorld\n",
    "|   |-- __init__.py\n",
    "|   |-- asgi.py\n",
    "|   |-- settings.py\n",
    "|   |-- urls.py\n",
    "|   `-- wsgi.py\n",
    "`-- manage.py\n",
    "```\n",
    "\n",
    "运行项目：\n",
    "`python3 manage.py runserver 0.0.0.0:8000\n",
    "`\n",
    "浏览器打开`localhost:8000`\n",
    "\n",
    "![avatar](Helloword.png) "
   ]
  },
  {
   "cell_type": "markdown",
   "id": "60da9c7c-d843-49e9-a397-2a78edd2f5b8",
   "metadata": {},
   "source": [
    "# 视图和url配置"
   ]
  },
  {
   "cell_type": "markdown",
   "id": "077eb2fd-55ba-44e1-bd32-7073bae96c07",
   "metadata": {},
   "source": [
    "在先前创建的 HelloWorld 目录下的 HelloWorld 目录新建一个 views.py 文件，并输入代码：\n",
    "```from django.http import HttpResponse\n",
    " \n",
    "def hello(request):\n",
    "    return HttpResponse(\"Hello world ! \")\n",
    "```\n",
    "\n",
    "接着，绑定 URL 与视图函数。打开 urls.py 文件，删除原来代码，将以下代码复制粘贴到 urls.py 文件中：\n",
    "```\n",
    "from django.conf.urls import url\n",
    " \n",
    "from . import views\n",
    " \n",
    "urlpatterns = [\n",
    "    url(r'^$', views.hello),\n",
    "]\n",
    "```\n",
    "\n",
    "目录结构：\n",
    "\n",
    "```\n",
    "$ tree\n",
    ".\n",
    "|-- HelloWorld\n",
    "|   |-- __init__.py\n",
    "|   |-- __init__.pyc\n",
    "|   |-- settings.py\n",
    "|   |-- settings.pyc\n",
    "|   |-- urls.py              # url 配置\n",
    "|   |-- urls.pyc\n",
    "|   |-- views.py              # 添加的视图文件\n",
    "|   |-- views.pyc             # 编译后的视图文件\n",
    "|   |-- wsgi.py\n",
    "|   `-- wsgi.pyc\n",
    "`-- manage.py\n",
    "```\n",
    "运行项目：\n",
    "`\n",
    "cd ..\n",
    "python3 manage.py runserver 0.0.0.0:8000\n",
    "`\n",
    "浏览器打开`localhost:8000`\n",
    "\n",
    "![avatar](Helloword1.png) "
   ]
  },
  {
   "cell_type": "code",
   "execution_count": null,
   "id": "aa05a94a-7f20-4c69-aff8-922a2680235a",
   "metadata": {},
   "outputs": [],
   "source": []
  }
 ],
 "metadata": {
  "kernelspec": {
   "display_name": "Python 3",
   "language": "python",
   "name": "python3"
  },
  "language_info": {
   "codemirror_mode": {
    "name": "ipython",
    "version": 3
   },
   "file_extension": ".py",
   "mimetype": "text/x-python",
   "name": "python",
   "nbconvert_exporter": "python",
   "pygments_lexer": "ipython3",
   "version": "3.8.10"
  }
 },
 "nbformat": 4,
 "nbformat_minor": 5
}
